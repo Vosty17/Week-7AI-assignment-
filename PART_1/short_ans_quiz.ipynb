{
 "cells": [
  {
   "cell_type": "markdown",
   "id": "0f006f79",
   "metadata": {},
   "source": [
    "# QUESTION 1\n",
    "## Define algorithmic bias and provide two examples of how it manifests in AI systems??\n",
    "Algorithmic biass is systematic and unfair discrimination that occurs when an AI system produces skewed or prejudiced outcomes due to flawed assumptions, biased training data, or design choices in the algorithm. This bias can disadvantage certain groups based on race, gender, age or other characteristics.\n",
    "\n",
    "### Examples\n",
    "#### 1. Racial bias in Facial Recognition\n",
    "Many facial recognition systems have error rates for people with darker skin tones, particularly women of color, due to underrepresentation in training datasets. E.g a 2018 study found out that some commercial systems had error rates of upto 34% for darker-skinned women compared to near-perfect accuracy for lighter-skinned men.\n",
    "\n",
    "#### 2. Gender Bias in Hiring Algorithms\n",
    "AI-powered recruitment tools have been found to favor male candidates over female ones, expecially in male-dominated fields. For instance, Amazon-scrapped an AI hiring tool in 2018 because it downgraded resumes containing words like \"women's\" or graduates from all-women colleges."
   ]
  },
  {
   "cell_type": "markdown",
   "id": "8eda9d7f",
   "metadata": {},
   "source": [
    "# QUESTION 2\n",
    "## Explain the difference between transparency and explainability in AI. Why are both important?\n",
    "**Transparency:** Is the openness about how an AI system is developed, including its data sources, model architecture, training processes and potential limitations.\n",
    "\n",
    "**Explainability:** Focuses on making individual AI decisions understandable to humans, often by providing clear, intuitive reasons for outputs. It addresses the \"how\" and \"why\" behind specific predictions or actions.\n",
    "\n",
    "### Why both are important:\n",
    "**Transparency** builds trust and exposes biases.\n",
    "**Explainability** enables acountability and compliance (e.g GDPR).\n",
    "Together, they promote ethical, fair, and user-friendly AI systems."
   ]
  },
  {
   "cell_type": "markdown",
   "id": "3e26ef48",
   "metadata": {},
   "source": [
    "# QUESTION 3\n",
    "## How does GDPR (General Data Protection Regulation) impact AI development in the EU?\n",
    "\n",
    "The GDPR (General Data Protection Regulation) significantly impacts AI development in the EU by imposing strict rules to ensure privacy, fairness, and accountability. Key implications include:\n",
    "\n",
    "### 1. Strict Rules for AI Development\n",
    "Requires lawful, fair, and transparent AI systems.\n",
    "Bans discriminatory or opaque decision-making (e.g., biased hiring algorithms).\n",
    "\n",
    "### 2. Right to Explanation\n",
    "Users can demand clear reasoning behind AI decisions (e.g., loan rejections).\n",
    "Forces developers to use interpretable models (not just \"black-box\" AI).\n",
    "\n",
    "### 3. Strong Data Privacy Protections\n",
    "Limits data collection (minimization principle).\n",
    "Requires user consent and allows data deletion (\"right to be forgotten\").\n",
    "\n",
    "### 4. Bias & Discrimination Prevention\n",
    "AI must avoid unfair bias, aligning with the EU AI Act’s stricter rules.\n",
    "\n",
    "### 5. Privacy by Design\n",
    "AI must embed safeguards (e.g., anonymization, encryption).\n",
    "\n",
    "### 6. Heavy Compliance Burden\n",
    "Developers must document AI processes and conduct risk assessments.\n",
    "Violations risk huge fines (up to 4% of global revenue).\n",
    "\n",
    "\n",
    "**Result:** GDPR pushes AI toward **ethical, user-friendly, and accountable** systems but increases costs and complexity for developers.\n"
   ]
  }
 ],
 "metadata": {
  "language_info": {
   "name": "python"
  }
 },
 "nbformat": 4,
 "nbformat_minor": 5
}
