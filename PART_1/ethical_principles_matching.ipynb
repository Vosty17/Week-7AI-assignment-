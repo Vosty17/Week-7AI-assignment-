{
 "cells": [
  {
   "cell_type": "markdown",
   "id": "f6cc854f",
   "metadata": {},
   "source": [
    "# QUESTIONS\n",
    "# 2. Ethical Principles Matching\n",
    "## Match the following principles to their definitions:\n",
    "\n",
    "**A) Justice**\n",
    "\n",
    "**B) Non-maleficence**\n",
    "\n",
    "**C) Autonomy**\n",
    "\n",
    "**D) Sustainability**\n",
    "\n",
    "        1. Ensuring AI does not harm individuals or society.\n",
    "\n",
    "        2. Respecting users’ right to control their data and decisions.\n",
    "\n",
    "        3. Designing AI to be environmentally friendly.\n",
    "\n",
    "        4. Fair distribution of AI benefits and risks."
   ]
  },
  {
   "cell_type": "markdown",
   "id": "d549d018",
   "metadata": {},
   "source": [
    "# ANSWERS\n",
    "# Here’s the correct matching of principles to their definitions:\n",
    "\n",
    "**A) Justice** → Fair distribution of AI benefits and risks.\n",
    "\n",
    "**B) Non-maleficence** → Ensuring AI does not harm individuals or society.\n",
    "\n",
    "**C) Autonomy** → Respecting users’ right to control their data and decisions.\n",
    "\n",
    "**D) Sustainability** → Designing AI to be environmentally friendly."
   ]
  },
  {
   "cell_type": "markdown",
   "id": "bb9a45cb",
   "metadata": {},
   "source": []
  },
  {
   "cell_type": "markdown",
   "id": "2179cc18",
   "metadata": {},
   "source": []
  }
 ],
 "metadata": {
  "language_info": {
   "name": "python"
  }
 },
 "nbformat": 4,
 "nbformat_minor": 5
}
