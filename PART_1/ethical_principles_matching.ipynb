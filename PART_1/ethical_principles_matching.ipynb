{
 "cells": [
  {
   "cell_type": "markdown",
   "id": "f6cc854f",
   "metadata": {},
   "source": []
  },
  {
   "cell_type": "markdown",
   "id": "d549d018",
   "metadata": {},
   "source": []
  },
  {
   "cell_type": "markdown",
   "id": "bb9a45cb",
   "metadata": {},
   "source": []
  },
  {
   "cell_type": "markdown",
   "id": "2179cc18",
   "metadata": {},
   "source": []
  }
 ],
 "metadata": {
  "language_info": {
   "name": "python"
  }
 },
 "nbformat": 4,
 "nbformat_minor": 5
}
